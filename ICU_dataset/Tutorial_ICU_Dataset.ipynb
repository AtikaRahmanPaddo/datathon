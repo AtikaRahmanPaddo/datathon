{
 "cells": [
  {
   "cell_type": "markdown",
   "id": "f667d67f-d1be-414a-90c9-db9c52eb3373",
   "metadata": {},
   "source": [
    "# Tutorial on Emory ICU data\n",
    "\n",
    "In this tutorial, we'll be exploring various files stored in a parquet format that relate to Emory's ICU patient data. Afer this tutorial you'll know:\n",
    "\n",
    "* how to load a parquet file into a pandas dataframe\n",
    "* how to use duckdb to run queries against the parquet files, without loading the data into memory\n",
    "* how to plot some of the common measurements in the dataset\n",
    "\n",
    "First, we need to setup the environment."
   ]
  },
  {
   "cell_type": "code",
   "execution_count": null,
   "id": "b9db22dc",
   "metadata": {},
   "outputs": [],
   "source": [
    "!pip install duckdb seaborn pyarrow pandas[pyarrow]"
   ]
  },
  {
   "cell_type": "code",
   "execution_count": null,
   "id": "a2e7594c-9714-432d-9a19-50f6e3df58bf",
   "metadata": {},
   "outputs": [],
   "source": [
    "import os\n",
    "\n",
    "import duckdb\n",
    "import pandas as pd\n",
    "import pyarrow.parquet as pq\n",
    "import seaborn as sns\n",
    "import matplotlib as mpl\n",
    "import matplotlib.pyplot as plt\n",
    "\n",
    "# set global parameters \n",
    "sns.set(font_scale=2)  # increase text size\n",
    "mpl.rcParams['xtick.labelsize'] = 20\n",
    "mpl.rcParams['ytick.labelsize'] = 20"
   ]
  },
  {
   "cell_type": "markdown",
   "id": "057c35b4-5f32-4551-a63c-4f1026234a99",
   "metadata": {},
   "source": [
    "## Overview of tables in the dataset\n",
    "\n",
    "The Emory-ICU data has the following tables:\n",
    "\n",
    "* patients, admissions, transfers, icustays\n",
    "  * tracking the patient throughout their hospital stay\n",
    "* chartevents, d_items\n",
    "  * charted measurements (ventilator settings, vital signs, etc)\n",
    "* procedureevents\n",
    "  * invasive ventilation durations\n",
    "* labevents, d_labitems\n",
    "  * lab measurements (chemistry, hematology, etc)\n",
    "* microbiologyevents\n",
    "  * microbiology measurements (blood cultures, etc)\n",
    "* emar, emar_detail\n",
    "  * medication administration\n",
    "* diagnoses_icd, d_icd_diagnoses\n",
    "  * hospital billing diagnoses\n",
    "* hcpcsevents, d_hcpcs\n",
    "  * billed procedures (CPT codes)\n",
    "\n",
    "Most of the tables in MIMIC-IV are in Emory-ICU. In fact some tables are more expansive. Even though *chartevents* was an ICU only table in MIMIC-IV, it's actually hospital wide for Emory.\n",
    "\n",
    "Nevertheless, if you are familiar with MIMIC-IV, note the following concepts (and associated tables) are not present in Emory-ICU (currently!):\n",
    "\n",
    "* provider, caregiver\n",
    "  * unique identifiers for each provider/caregiver. links to provider_id and caregiver_id.\n",
    "* datetimeevents, ingredientevents, inputevents, outputevents\n",
    "  * various charted data in the icu\n",
    "* pharmacy\n",
    "  * dispensation for medications\n",
    "* prescriptions, poe, poe_detail\n",
    "  * orders made by providers such as orders for medications (prescriptions), orders for x-rays, etc.\n",
    "* procedures_icd, d_icd_procedures\n",
    "  * hospital billed procedures"
   ]
  },
  {
   "cell_type": "markdown",
   "id": "db24b1a0-2b6b-458b-a5b0-e9829b906957",
   "metadata": {},
   "source": [
    "## Patient tracking\n",
    "\n",
    "Patients are tracked through a few tables:\n",
    "\n",
    "* patients - unique row per `subject_id`, and provides patient demographics\n",
    "* admissions - unique row per `hadm_id`, and provides information about hospitalizations\n",
    "* transfers - unique row per hospital transfer\n",
    "* icustays - a subset of the *transfers* table, which groups together ICU stays which are contiguous\n",
    "\n",
    "First, let's import the admissions.parquet, icustays.parquet, and patients.parquet files:"
   ]
  },
  {
   "cell_type": "code",
   "execution_count": null,
   "id": "3a34e084-18b4-48bd-9764-d9788e5baad9",
   "metadata": {},
   "outputs": [],
   "source": [
    "patients = pd.read_parquet('/icu/emory/patients.parquet')\n",
    "admissions = pd.read_parquet('/icu/emory/admissions.parquet')\n",
    "transfers = pd.read_parquet('/icu/emory/transfers.parquet')\n",
    "icustays = pd.read_parquet('/icu/emory/icustays.parquet')"
   ]
  },
  {
   "cell_type": "markdown",
   "id": "b24e3d92-3ac4-4d16-a339-72e9c07ef9ed",
   "metadata": {},
   "source": [
    "We can take a look at rows in each table."
   ]
  },
  {
   "cell_type": "code",
   "execution_count": null,
   "id": "019991f1-ef93-447e-825f-ead36c78d4b8",
   "metadata": {},
   "outputs": [],
   "source": [
    "print('=== patients ===')\n",
    "display(patients.head())\n",
    "\n",
    "print('=== icustays ===')\n",
    "display(icustays.head())"
   ]
  },
  {
   "cell_type": "markdown",
   "id": "6750e760-9c95-4f4c-82f2-452270df7642",
   "metadata": {},
   "source": [
    "We can pick a single patient and look through their stay. Let's pick 10000788."
   ]
  },
  {
   "cell_type": "code",
   "execution_count": null,
   "id": "2ccdd26d-5604-4b12-b428-96d82f889dcc",
   "metadata": {},
   "outputs": [],
   "source": [
    "subject_id = 10000788\n",
    "\n",
    "print('=== patients ===')\n",
    "display(patients.loc[patients['subject_id']==subject_id])\n",
    "\n",
    "print('=== admissions ===')\n",
    "display(admissions.loc[admissions['subject_id']==subject_id])\n",
    "\n",
    "print('=== transfers ===')\n",
    "display(transfers.loc[transfers['subject_id']==subject_id])\n",
    "\n",
    "print('=== icustays ===')\n",
    "display(icustays.loc[icustays['subject_id']==subject_id])"
   ]
  },
  {
   "cell_type": "markdown",
   "id": "40d3dc3c-0e19-42fb-9cc7-aa80ec2b5525",
   "metadata": {},
   "source": [
    "# Dealing With Large Datasets\n",
    "\n",
    "Pandas is a great tool, but it struggles with large datasets because it tries to load all the data into memory.\n",
    "\n",
    "We can look at the size of one of the bigger tables, labevents.parquet:\n"
   ]
  },
  {
   "cell_type": "code",
   "execution_count": null,
   "id": "eb7c6bc7-3383-4e8e-8da9-048aae7fa936",
   "metadata": {},
   "outputs": [],
   "source": [
    "for table_name in ['chartevents', 'labevents', 'emar', 'emar_detail']:\n",
    "    table_size = os.path.getsize(f'/icu/emory/{table_name}.parquet')\n",
    "    print(f'The size of {table_name}.parquet is {table_size / 1e9:1.2f} GB')"
   ]
  },
  {
   "cell_type": "markdown",
   "id": "d8b71497-7ddd-47f7-8b5b-4014f377488e",
   "metadata": {},
   "source": [
    "You only have 60GB RAM shared across the team! Loading the entire dataframe will be challenging.\n",
    "\n",
    "This is where a tool called [duckdb](https://duckdb.org/) comes in handy. This is a database engine can query data from parquet files directly without loading them into memory.\n",
    "\n",
    "We will create aliases for each of the tables now. This does *not* load any data into memory: it creates a mapping for our software to use the data on disk."
   ]
  },
  {
   "cell_type": "code",
   "execution_count": null,
   "id": "c9c51ecb-eb94-4feb-ba76-5d6be69bca37",
   "metadata": {},
   "outputs": [],
   "source": [
    "con = duckdb.connect(database=':memory:', read_only=False)\n",
    "\n",
    "admissions = con.from_parquet('/icu/emory/admissions.parquet')\n",
    "chartevents = con.from_parquet('/icu/emory/chartevents.parquet')\n",
    "d_hcpcs = con.from_parquet('/icu/emory/d_hcpcs.parquet')\n",
    "d_items = con.from_parquet('/icu/emory/d_items.parquet')\n",
    "d_labitems = con.from_parquet('/icu/emory/d_labitems.parquet')\n",
    "emar_detail = con.from_parquet('/icu/emory/emar_detail.parquet')\n",
    "emar = con.from_parquet('/icu/emory/emar.parquet')\n",
    "hcpcsevents = con.from_parquet('/icu/emory/hcpcsevents.parquet')\n",
    "icustays = con.from_parquet('/icu/emory/icustays.parquet')\n",
    "labevents = con.from_parquet('/icu/emory/labevents.parquet')\n",
    "microbiologyevents = con.from_parquet('/icu/emory/microbiologyevents.parquet')\n",
    "patients = con.from_parquet('/icu/emory/patients.parquet')\n",
    "procedureevents = con.from_parquet('/icu/emory/procedureevents.parquet')\n",
    "services = con.from_parquet('/icu/emory/services.parquet')\n",
    "transfers = con.from_parquet('/icu/emory/transfers.parquet')"
   ]
  },
  {
   "cell_type": "markdown",
   "id": "881de8b2-8a08-45c7-9b7d-ef316e761877",
   "metadata": {},
   "source": [
    "Now you can query all these tables as if they were in a database, and use the `.df()` call to get a dataframe out. Let's repeat our queries above, looking for a specific `subject_id`."
   ]
  },
  {
   "cell_type": "code",
   "execution_count": null,
   "id": "09cf76b1-9c9a-4c25-bfb7-802ad14d70dd",
   "metadata": {},
   "outputs": [],
   "source": [
    "icustays = con.sql(f\"\"\"\n",
    "SELECT *\n",
    "FROM icustays\n",
    "WHERE subject_id = {subject_id}\n",
    "\"\"\").df()\n",
    "icustays.head()"
   ]
  },
  {
   "cell_type": "markdown",
   "id": "f7954591-6666-4cf9-9d76-bc6f0e89010a",
   "metadata": {},
   "source": [
    "This mostly shines when we start trying to do more complicated queries. For example, let's grab all the heart rates from `chartevents` and plot them for this subject."
   ]
  },
  {
   "cell_type": "code",
   "execution_count": null,
   "id": "31d2976f-dd18-4af4-9fd0-db72651f9ccf",
   "metadata": {},
   "outputs": [],
   "source": [
    "df = con.sql(f\"\"\"\n",
    "SELECT subject_id, hadm_id\n",
    ", c.itemid, di.label\n",
    ", charttime, value, valuenum, valueuom\n",
    "FROM chartevents c\n",
    "INNER JOIN d_items di\n",
    "ON c.itemid = di.itemid\n",
    "WHERE subject_id = {subject_id}\n",
    "AND c.itemid = 220045\n",
    "AND valuenum IS NOT NULL\n",
    "ORDER BY charttime\n",
    "\"\"\").df()\n",
    "\n",
    "plt.figure(figsize=(10,6))\n",
    "sns.lineplot(x='charttime', y='valuenum', hue='label', style='label',\n",
    "             data=df, markers=True, dashes=False, linewidth=2.5)\n",
    "\n",
    "plt.xticks(rotation=45)\n",
    "plt.title(f\"Time-Series Plot for Subject ID: {subject_id}\")\n",
    "plt.show()"
   ]
  },
  {
   "cell_type": "markdown",
   "id": "11f5ff81-4554-4887-967d-43d55cea688c",
   "metadata": {},
   "source": [
    "Keep in mind, this just scanned over 573,254,118 rows in less than a second to get this data, and did not load any of it into memory.\n",
    "\n",
    "Looking at the plot, it looks strange. This is because the person had multiple admissions spread out over years. We should specify a single admission. Let's pick the one associated with their first ICU stay."
   ]
  },
  {
   "cell_type": "code",
   "execution_count": null,
   "id": "be0cdb02-aec5-458a-8669-555128ae7c5d",
   "metadata": {},
   "outputs": [],
   "source": [
    "df = con.sql(f\"\"\"\n",
    "SELECT c.subject_id, c.hadm_id\n",
    ", c.itemid, di.label\n",
    ", charttime, value, valuenum, valueuom\n",
    "FROM chartevents c\n",
    "INNER JOIN (\n",
    "  SELECT subject_id, intime, outtime\n",
    "  FROM icustays\n",
    "  WHERE subject_id = {subject_id}\n",
    "  ORDER BY intime\n",
    "  LIMIT 1\n",
    ") i\n",
    "  ON c.subject_id = i.subject_id\n",
    "  AND c.charttime >= i.intime\n",
    "  AND c.charttime <= i.outtime\n",
    "INNER JOIN d_items di\n",
    "ON c.itemid = di.itemid\n",
    "WHERE c.subject_id = {subject_id}\n",
    "AND c.itemid = 220045\n",
    "AND valuenum IS NOT NULL\n",
    "ORDER BY charttime\n",
    "\"\"\").df()\n",
    "\n",
    "plt.figure(figsize=(10,6))\n",
    "sns.lineplot(x='charttime', y='valuenum', hue='label', style='label',\n",
    "             data=df, markers=True, dashes=False, linewidth=2.5)\n",
    "\n",
    "plt.xticks(rotation=45)\n",
    "plt.title(f\"Time-Series Plot for Subject ID: {subject_id}\")\n",
    "plt.show()"
   ]
  },
  {
   "cell_type": "markdown",
   "id": "b9898a5f-2292-43b5-bee4-8a065a9c4d4d",
   "metadata": {
    "tags": []
   },
   "source": [
    "## What's in the dataset?\n",
    "\n",
    "The easiest way to find out what's in the dataset is either (1) look at the columns or (2) look at the dimension tables.\n",
    "\n",
    "Look at the columns for:\n",
    "\n",
    "* patients, admissions, transfers, services, icustays\n",
    "\n",
    "Look at the \"d\" tables for:\n",
    "\n",
    "* chartevents -> d_items\n",
    "* labevents -> d_labitems\n",
    "* emar_detail -> no d table, you have to aggregate the table itself.\n",
    "\n",
    "Aggregating the `itemid` for *chartevents* and *labevents* gives you a quick idea of what is available."
   ]
  },
  {
   "cell_type": "code",
   "execution_count": null,
   "id": "fb308674-374e-4107-b483-0ca1a9d0dc28",
   "metadata": {},
   "outputs": [],
   "source": [
    "chart_item_count = con.sql(f\"\"\"\n",
    "SELECT c.itemid, di.label\n",
    ", COUNT(c.itemid) AS n_row\n",
    "FROM chartevents c\n",
    "INNER JOIN d_items di\n",
    "ON c.itemid = di.itemid\n",
    "GROUP BY 1, 2\n",
    "ORDER BY 3 DESC\n",
    "\"\"\").df()\n",
    "\n",
    "chart_item_count.head(n=10)"
   ]
  },
  {
   "cell_type": "code",
   "execution_count": null,
   "id": "cb578fd6-b0cf-4706-bbab-3d6d3915eced",
   "metadata": {},
   "outputs": [],
   "source": [
    "lab_item_count = con.sql(f\"\"\"\n",
    "SELECT c.itemid, di.label\n",
    ", COUNT(c.itemid) AS n_row\n",
    "FROM labevents c\n",
    "INNER JOIN d_labitems di\n",
    "ON c.itemid = di.itemid\n",
    "GROUP BY 1, 2\n",
    "ORDER BY 3 DESC\n",
    "\"\"\").df()\n",
    "\n",
    "lab_item_count.head(n=10)"
   ]
  },
  {
   "cell_type": "markdown",
   "id": "07e77761-ada6-41fd-afe4-7b2f83b83336",
   "metadata": {},
   "source": [
    "Using these dimension tables, you can search for the measurements you are interested in (heart rate, FiO2, etc), and then write queries to get those measurements.\n",
    "\n",
    "We can start to think about other plots."
   ]
  },
  {
   "cell_type": "code",
   "execution_count": null,
   "id": "91a3f8a2-eb98-4a40-aa34-b0d31db8a130",
   "metadata": {},
   "outputs": [],
   "source": [
    "# get all charted data for a single subject\n",
    "chart = con.sql(f\"\"\"\n",
    "SELECT subject_id, hadm_id\n",
    ", c.itemid, di.label\n",
    ", charttime, value, valuenum, valueuom\n",
    "FROM chartevents c\n",
    "INNER JOIN d_items di\n",
    "ON c.itemid = di.itemid\n",
    "WHERE subject_id = 30100698\n",
    "\"\"\").df()\n",
    "display(chart.head())\n",
    "\n",
    "\n",
    "# subselect to certain labels\n",
    "labels = {'SPO2', 'PULSE', 'MAP_CUFF', 'MAP_LINE', 'GCS_TOTAL_SCORE'}\n",
    "\n",
    "plt.figure(figsize=(12,10))\n",
    "sns.lineplot(x='charttime', y='valuenum', hue='label', style='label',\n",
    "             data=chart.loc[chart['label'].isin(labels)],\n",
    "             markers=True, dashes=False, linewidth=2.5)\n",
    "\n",
    "plt.xticks(rotation=45)\n",
    "plt.title(f\"Time-Series Plot for hadm_id\")\n",
    "\n",
    "plt.show()"
   ]
  }
 ],
 "metadata": {
  "kernelspec": {
   "display_name": "Python 3 (ipykernel)",
   "language": "python",
   "name": "python3"
  },
  "language_info": {
   "codemirror_mode": {
    "name": "ipython",
    "version": 3
   },
   "file_extension": ".py",
   "mimetype": "text/x-python",
   "name": "python",
   "nbconvert_exporter": "python",
   "pygments_lexer": "ipython3",
   "version": "3.9.7"
  }
 },
 "nbformat": 4,
 "nbformat_minor": 5
}
